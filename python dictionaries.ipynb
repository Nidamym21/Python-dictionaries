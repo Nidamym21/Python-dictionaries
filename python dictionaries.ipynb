{
 "cells": [
  {
   "cell_type": "markdown",
   "id": "528dd2f5-9e27-4a08-b8c8-1f17a403f098",
   "metadata": {},
   "source": [
    "# Python Dictionaries:\n",
    "\n",
    "- A Python dictionary is a way to store information using key-value pairs.\n",
    "- Think of it like a real-life dictionary where you look up a word (the key) to find its meaning (the value).\n",
    "\n",
    "## Key Points:\n",
    "- Key-Value Pairs: Each item in the dictionary has a key and a value. The key is like a label, and the value is the information you want to store.\n",
    "\n",
    "- Unordered: Dictionaries don’t keep items in a specific order. If you add new items, they might appear in a different order.\n",
    "\n",
    "- Mutable: You can modify a dictionary by adding, removing, or changing key-value pairs.\n",
    "\n",
    "- Keys Must Be Unique: Each key must be unique. If you use the same key again, it will update the existing value.\n",
    "\n",
    "- Values Can Be Anything: Values can be numbers, strings, lists, or even other dictionaries.\n",
    "\n",
    "For instance:"
   ]
  },
  {
   "cell_type": "code",
   "execution_count": 4,
   "id": "39dc3b8f-b160-4763-a8af-f53a6c277549",
   "metadata": {},
   "outputs": [
    {
     "name": "stdout",
     "output_type": "stream",
     "text": [
      "Alice\n",
      "True\n"
     ]
    }
   ],
   "source": [
    "# Creating a dictionary\n",
    "my_dict = {\n",
    "    \"name\": \"Alice\",    # key is \"name\", value is \"Alice\"\n",
    "    \"age\": 30,          # key is \"age\", value is 30\n",
    "    \"city\": \"New York\"  # key is \"city\", value is \"New York\"\n",
    "}\n",
    "\n",
    "# Accessing a value\n",
    "print(my_dict[\"name\"])  # Outputs: Alice\n",
    "\n",
    "# Adding a new key-value pair\n",
    "my_dict[\"job\"] = \"Engineer\"\n",
    "\n",
    "# Updating an existing value\n",
    "my_dict[\"age\"] = 31\n",
    "\n",
    "# Removing a key-value pair\n",
    "del my_dict[\"city\"]\n",
    "\n",
    "# Checking if a key exists\n",
    "print(\"name\" in my_dict)  \n"
   ]
  },
  {
   "cell_type": "markdown",
   "id": "65ee094d-620f-4145-a22f-205c9ccb5104",
   "metadata": {},
   "source": [
    "# Syntax:"
   ]
  },
  {
   "cell_type": "code",
   "execution_count": 5,
   "id": "87ed8fac-d295-4ad8-b2d8-ee8c2cb60879",
   "metadata": {},
   "outputs": [
    {
     "name": "stdout",
     "output_type": "stream",
     "text": [
      "{'key1': 'value1', 'key2': 'value2'}\n"
     ]
    }
   ],
   "source": [
    "x = {'key1': 'value1', 'key2': 'value2'}\n",
    "print(x)"
   ]
  },
  {
   "cell_type": "code",
   "execution_count": 6,
   "id": "40e9361b-d7eb-49f3-9e5e-fa2ceb317ffa",
   "metadata": {},
   "outputs": [
    {
     "name": "stdout",
     "output_type": "stream",
     "text": [
      "{'name': 'nida', 'age': 20, 'city': 'hyd'}\n"
     ]
    }
   ],
   "source": [
    "person = {\"name\": \"nida\",\"age\": 20,\"city\": \"hyd\"}\n",
    "print(person)"
   ]
  },
  {
   "cell_type": "markdown",
   "id": "97575583-1fe1-455b-9cb8-7923ef64f724",
   "metadata": {},
   "source": [
    "# Accessing Values:\n",
    "You can access the value associated with a key using the following syntax:"
   ]
  },
  {
   "cell_type": "code",
   "execution_count": 7,
   "id": "452060aa-787f-46d1-b419-66e20a8aef7c",
   "metadata": {},
   "outputs": [
    {
     "name": "stdout",
     "output_type": "stream",
     "text": [
      "20\n"
     ]
    }
   ],
   "source": [
    "name = person[\"age\"]  \n",
    "print(name)  "
   ]
  },
  {
   "cell_type": "markdown",
   "id": "dffb15c7-69ae-4d79-943e-c7e3262a6da4",
   "metadata": {},
   "source": [
    "# Modifying Elements:\n",
    "\n",
    "To modify the value associated with an existing key, simply assign a new value to it:"
   ]
  },
  {
   "cell_type": "code",
   "execution_count": 8,
   "id": "6929d035-ebf5-4474-b88d-717c85142e47",
   "metadata": {},
   "outputs": [
    {
     "name": "stdout",
     "output_type": "stream",
     "text": [
      "{'name': 'nida', 'age': 25}\n"
     ]
    }
   ],
   "source": [
    "my_dict = {\"name\": \"nida\", \"age\": 20}\n",
    "my_dict[\"age\"] = 25\n",
    "print(my_dict)  "
   ]
  },
  {
   "cell_type": "markdown",
   "id": "db8f310a-0ddd-4f13-ae57-30c8b74760f6",
   "metadata": {},
   "source": [
    "# Adding Elements:\n",
    "\n",
    "To add a new key-value pair to the dictionary, use the assignment operator:"
   ]
  },
  {
   "cell_type": "code",
   "execution_count": 9,
   "id": "1b5cdaa3-79cf-4172-8639-41acc9e4c610",
   "metadata": {},
   "outputs": [
    {
     "name": "stdout",
     "output_type": "stream",
     "text": [
      "{'name': 'nida', 'age': 20, 'city': 'hyd'}\n"
     ]
    }
   ],
   "source": [
    "my_dict = {\"name\": \"nida\", \"age\": 20}\n",
    "my_dict[\"city\"] = \"hyd\"\n",
    "print(my_dict)  \n"
   ]
  },
  {
   "cell_type": "markdown",
   "id": "ede53c99-7e0d-4ff2-b161-56150cba99b2",
   "metadata": {},
   "source": [
    "# Removing Elements:\n",
    "\n",
    "To remove a key-value pair from the dictionary, use the del keyword:"
   ]
  },
  {
   "cell_type": "code",
   "execution_count": 10,
   "id": "6a873085-7322-4768-9dc3-d33290f3fbb1",
   "metadata": {},
   "outputs": [
    {
     "name": "stdout",
     "output_type": "stream",
     "text": [
      "{'name': 'nida', 'age': 20}\n"
     ]
    }
   ],
   "source": [
    "my_dict = {\"name\": \"nida\", \"age\": 20, \"city\": \"hyd\"}\n",
    "del my_dict[\"city\"]\n",
    "print(my_dict)  "
   ]
  },
  {
   "cell_type": "markdown",
   "id": "45f9a683-165d-447d-8826-b3e9d2100498",
   "metadata": {},
   "source": [
    "# Combining Operations:\n",
    "\n",
    "You can perform multiple modifications, additions, and removals in a single operation:"
   ]
  },
  {
   "cell_type": "code",
   "execution_count": 12,
   "id": "f416ade0-ae50-4bfd-8499-7ca70f94fff9",
   "metadata": {},
   "outputs": [
    {
     "name": "stdout",
     "output_type": "stream",
     "text": [
      "{'name': 'nida', 'age': 25, 'country': 'India'}\n"
     ]
    }
   ],
   "source": [
    "my_dict = {\"name\": \"nida\", \"age\": 20, \"city\": \"hyd\"}\n",
    "my_dict[\"age\"] = 25\n",
    "my_dict[\"country\"] = \"India\"\n",
    "del my_dict[\"city\"]\n",
    "print(my_dict)  "
   ]
  },
  {
   "cell_type": "markdown",
   "id": "09b09ba3-a1d2-4ca7-93fd-c947ec1e600a",
   "metadata": {},
   "source": [
    "# Dictionary Methods"
   ]
  },
  {
   "cell_type": "markdown",
   "id": "1c683ff4-f11f-4980-91e5-30c12eefe48b",
   "metadata": {},
   "source": [
    "## get():\n",
    "\n",
    "Retrieves the value for a specified key. If the key is not found, it returns None (or a default value if specified)"
   ]
  },
  {
   "cell_type": "code",
   "execution_count": 20,
   "id": "370a43f8-c9a2-4232-ba67-87c780091f87",
   "metadata": {},
   "outputs": [
    {
     "name": "stdout",
     "output_type": "stream",
     "text": [
      "B\n",
      "not specified\n",
      "no location\n"
     ]
    }
   ],
   "source": [
    "student = {\"name\": \"nida\", \"age\": 20, \"grade\": \"B\"}\n",
    "g = student.get(\"grade\", \"no grade\")\n",
    "gender = student.get(\"gender\", \"not specified\")\n",
    "l = student.get(\"location\", \"no location\")\n",
    "print(g)\n",
    "print(gender)\n",
    "print(l)"
   ]
  },
  {
   "cell_type": "markdown",
   "id": "6c6dcecc-8484-4c6d-a504-dd26e245fc7a",
   "metadata": {},
   "source": [
    "## keys():\n",
    "\n",
    "Returns a list-like object containing all the keys in the dictionary."
   ]
  },
  {
   "cell_type": "code",
   "execution_count": 24,
   "id": "8ff2f059-ab7d-47f6-8f53-bdebeff6870c",
   "metadata": {},
   "outputs": [
    {
     "name": "stdout",
     "output_type": "stream",
     "text": [
      "dict_keys(['name', 'age'])\n"
     ]
    }
   ],
   "source": [
    "\n",
    "keys = my_dict.keys()\n",
    "print(keys)  "
   ]
  },
  {
   "cell_type": "markdown",
   "id": "97e63c5b-f28f-4af1-a1b0-5fedb41472ee",
   "metadata": {},
   "source": [
    "## values():\n",
    "\n",
    "Returns a list-like object containing all the values in the dictionary."
   ]
  },
  {
   "cell_type": "code",
   "execution_count": 27,
   "id": "dd2d8709-489e-4329-a08a-839511f26288",
   "metadata": {},
   "outputs": [
    {
     "name": "stdout",
     "output_type": "stream",
     "text": [
      "dict_values(['nida', 20])\n"
     ]
    }
   ],
   "source": [
    "\n",
    "values = my_dict.values()\n",
    "print(values)  \n"
   ]
  },
  {
   "cell_type": "markdown",
   "id": "a2cea8e3-a3f8-4d08-abf0-799615ee48bb",
   "metadata": {},
   "source": [
    "## items():\n",
    "\n",
    "Returns a list-like object containing all the key-value pairs as tuples."
   ]
  },
  {
   "cell_type": "code",
   "execution_count": 28,
   "id": "eae6044d-00c4-4e3e-894e-c4b7391112cb",
   "metadata": {},
   "outputs": [
    {
     "name": "stdout",
     "output_type": "stream",
     "text": [
      "dict_items([('name', 'nida'), ('age', 20)])\n"
     ]
    }
   ],
   "source": [
    "\n",
    "items = my_dict.items()\n",
    "print(items) "
   ]
  },
  {
   "cell_type": "markdown",
   "id": "5c0284b0-e09c-4938-acb0-54707072152b",
   "metadata": {},
   "source": [
    "## pop():\n",
    "\n",
    "Removes and returns the value of the specified key. If the key doesn’t exist, it raises a KeyError unless a default value is given.\n"
   ]
  },
  {
   "cell_type": "code",
   "execution_count": 29,
   "id": "d68eea8c-9e9a-45e3-b16a-9d33b45969a2",
   "metadata": {},
   "outputs": [
    {
     "name": "stdout",
     "output_type": "stream",
     "text": [
      "20\n"
     ]
    }
   ],
   "source": [
    "age = my_dict.pop(\"age\")\n",
    "print(age)  # "
   ]
  },
  {
   "cell_type": "markdown",
   "id": "e3ca57ea-653c-453f-92b2-8bbd06dead90",
   "metadata": {},
   "source": [
    "## popitem():\n",
    "\n",
    "Removes and returns the last inserted key-value pair as a tuple. If the dictionary is empty, it raises a KeyError."
   ]
  },
  {
   "cell_type": "code",
   "execution_count": 30,
   "id": "62565a72-4c9e-44d3-893c-2db36c294505",
   "metadata": {},
   "outputs": [
    {
     "name": "stdout",
     "output_type": "stream",
     "text": [
      "('age', 20)\n"
     ]
    }
   ],
   "source": [
    "my_dict = {\"name\": \"nida\", \"age\": 20}\n",
    "item = my_dict.popitem()\n",
    "print(item)"
   ]
  },
  {
   "cell_type": "markdown",
   "id": "4251b367-4f50-439b-ac33-3239b8319f89",
   "metadata": {},
   "source": [
    "## update():\n",
    "\n",
    "Updates the dictionary with the key-value pairs from another dictionary or key-value pairs provided as arguments."
   ]
  },
  {
   "cell_type": "code",
   "execution_count": 31,
   "id": "c2b524f3-4976-409e-acbf-9b27926be0de",
   "metadata": {},
   "outputs": [
    {
     "name": "stdout",
     "output_type": "stream",
     "text": [
      "{'name': 'nida', 'age': 20, 'city': 'New York'}\n"
     ]
    }
   ],
   "source": [
    "my_dict.update({\"age\": 20, \"city\": \"New York\"})\n",
    "print(my_dict)  \n"
   ]
  },
  {
   "cell_type": "code",
   "execution_count": null,
   "id": "7b58caea-ab86-4ef7-a84f-f59e1a4c3626",
   "metadata": {},
   "outputs": [],
   "source": []
  }
 ],
 "metadata": {
  "kernelspec": {
   "display_name": "Python 3 (ipykernel)",
   "language": "python",
   "name": "python3"
  },
  "language_info": {
   "codemirror_mode": {
    "name": "ipython",
    "version": 3
   },
   "file_extension": ".py",
   "mimetype": "text/x-python",
   "name": "python",
   "nbconvert_exporter": "python",
   "pygments_lexer": "ipython3",
   "version": "3.12.4"
  }
 },
 "nbformat": 4,
 "nbformat_minor": 5
}
